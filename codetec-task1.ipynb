# # API INTEGRATION AND DATA VISUALIZATION

# Import necessary libraries
import requests
import pandas as pd
import matplotlib.pyplot as plt
import seaborn as sns
from datetime import datetime
import time
from matplotlib.dates import DateFormatter

# Configuration
API_KEY = "f963fa00a591f6c14550228a69140c6f"  # REPLACE WITH YOUR ACTUAL API KEY
CITY = "karimnagar"
BASE_URL = "https://api.openweathermap.org/data/2.5/forecast"

def fetch_weather_data():
    """Fetch 5-day weather forecast data from OpenWeatherMap API"""
    params = {
        'q': CITY,
        'appid': API_KEY,
        'units': 'metric'
    }

    try:
        response = requests.get(BASE_URL, params=params)
        print(f"API Status Code: {response.status_code}")

        if response.status_code != 200:
            print(f"API Error: {response.json().get('message', 'Unknown error')}")
            return None

        data = response.json()
        print(f"Successfully fetched data for {data['city']['name']}, {data['city']['country']}")
        return data

    except Exception as e:
        print(f"Error fetching data: {str(e)}")
        return None

def process_weather_data(data):
    """Process the raw API data into a structured DataFrame"""
    if not data or 'list' not in data:
        print("Error: Invalid data format received from API")
        return None

    processed_data = []
    for forecast in data['list']:
        try:
            rain = forecast.get('rain', {}).get('3h', 0)
            # Convert rain from mm to more readable format
            rain = round(rain, 2) if isinstance(rain, (int, float)) else 0

            record = {
                'date': datetime.fromtimestamp(forecast['dt']).strftime('%Y-%m-%d'),
                'time': datetime.fromtimestamp(forecast['dt']).strftime('%H:%M'),
                'datetime': datetime.fromtimestamp(forecast['dt']),
                'temperature': round(forecast['main']['temp'], 1),
                'feels_like': round(forecast['main']['feels_like'], 1),
                'humidity': forecast['main']['humidity'],
                'wind_speed': round(forecast['wind']['speed'], 1),
                'weather': forecast['weather'][0]['main'],
                'weather_desc': forecast['weather'][0]['description'],
                'rain': rain,
                'clouds': forecast['clouds']['all']
            }
            processed_data.append(record)
        except KeyError as e:
            print(f"Warning: Missing key {str(e)} in forecast data")
            continue

    df = pd.DataFrame(processed_data)
    print(f"Processed {len(df)} forecast records")
    return df

def create_visualizations(df):
    """Create a dashboard of weather visualizations"""
    if df is None or df.empty:
        print("No data to visualize")
        return

    # Set the style
    sns.set_style("whitegrid")
    plt.figure(figsize=(18, 12))
    plt.suptitle(f'5-Day Weather Forecast for {CITY.title()}', y=1.02, fontsize=18, weight='bold')

    # Temperature Plot
    plt.subplot(2, 2, 1)
    sns.lineplot(data=df, x='datetime', y='temperature', marker='o',
                 color='red', label='Actual')
    sns.lineplot(data=df, x='datetime', y='feels_like', marker='o',
                 color='orange', label='Feels Like')
    plt.title('Temperature Trend', fontsize=14, weight='bold')
    plt.xlabel('Date and Time', fontsize=12)
    plt.ylabel('Temperature (°C)', fontsize=12)
    plt.xticks(rotation=45)
    plt.legend()

    # Humidity Plot
    plt.subplot(2, 2, 2)
    sns.barplot(data=df, x='date', y='humidity', color='blue', errorbar=None)  # Fixed warning
    plt.title('Daily Humidity Levels', fontsize=14, weight='bold')
    plt.xlabel('Date', fontsize=12)
    plt.ylabel('Humidity (%)', fontsize=12)
    plt.xticks(rotation=45)

    # Wind Speed Plot
    plt.subplot(2, 2, 3)
    ax = sns.lineplot(data=df, x='datetime', y='wind_speed', color='green', marker='o')
    plt.title('Wind Speed Trend', fontsize=14, weight='bold')
    plt.xlabel('Date and Time', fontsize=12)
    plt.ylabel('Wind Speed (m/s)', fontsize=12)
    plt.xticks(rotation=45)

    # Format x-axis to show dates better
    date_format = DateFormatter('%m/%d %H:%M')
    ax.xaxis.set_major_formatter(date_format)

    # Weather Conditions Pie Chart
    plt.subplot(2, 2, 4)
    weather_counts = df['weather'].value_counts()
    colors = sns.color_palette('pastel')[0:len(weather_counts)]
    plt.pie(weather_counts, labels=weather_counts.index, autopct='%1.1f%%',
            colors=colors, startangle=90, textprops={'fontsize': 12})
    plt.title('Weather Conditions Distribution', fontsize=14, weight='bold')

    plt.tight_layout()

    # Save and show
    timestamp = time.strftime("%Y%m%d-%H%M%S")
    filename = f"weather_forecast_{CITY}_{timestamp}.png"
    plt.savefig(filename, bbox_inches='tight', dpi=100)
    print(f"\nDashboard saved as '{filename}'")
    plt.show()

def main():
    print(f"\nFetching 5-day weather forecast for {CITY.title()}...")
    raw_data = fetch_weather_data()

    if raw_data:
        print("\nProcessing weather data...")
        df = process_weather_data(raw_data)

        if df is not None:
            print("\nCreating visualizations...")
            create_visualizations(df)
        else:
            print("Failed to process weather data")
    else:
        print("Failed to fetch weather data")

if __name__ == "__main__":
    main()
